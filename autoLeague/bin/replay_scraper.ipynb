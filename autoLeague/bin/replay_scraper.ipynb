{
 "cells": [
  {
   "cell_type": "code",
   "execution_count": 1,
   "metadata": {},
   "outputs": [],
   "source": [
    "# MIT License\n",
    "# \n",
    "# Copyright (c) 2021 MiscellaneousStuff\n",
    "# \n",
    "# Permission is hereby granted, free of charge, to any person obtaining a copy\n",
    "# of this software and associated documentation files (the \"Software\"), to deal\n",
    "# in the Software without restriction, including without limitation the rights\n",
    "# to use, copy, modify, merge, publish, distribute, sublicense, and/or sell\n",
    "# copies of the Software, and to permit persons to whom the Software is\n",
    "# furnished to do so, subject to the following conditions:\n",
    "# \n",
    "# The above copyright notice and this permission notice shall be included in all\n",
    "# copies or substantial portions of the Software.\n",
    "# \n",
    "# THE SOFTWARE IS PROVIDED \"AS IS\", WITHOUT WARRANTY OF ANY KIND, EXPRESS OR\n",
    "# IMPLIED, INCLUDING BUT NOT LIMITED TO THE WARRANTIES OF MERCHANTABILITY,\n",
    "# FITNESS FOR A PARTICULAR PURPOSE AND NONINFRINGEMENT. IN NO EVENT SHALL THE\n",
    "# AUTHORS OR COPYRIGHT HOLDERS BE LIABLE FOR ANY CLAIM, DAMAGES OR OTHER\n",
    "# LIABILITY, WHETHER IN AN ACTION OF CONTRACT, TORT OR OTHERWISE, ARISING FROM,\n",
    "# OUT OF OR IN CONNECTION WITH THE SOFTWARE OR THE USE OR OTHER DEALINGS IN THE\n",
    "# SOFTWARE."
   ]
  },
  {
   "cell_type": "code",
   "execution_count": 32,
   "metadata": {},
   "outputs": [],
   "source": [
    "from autoLeague.replays.scraper import ReplayScraper as rs"
   ]
  },
  {
   "cell_type": "code",
   "execution_count": 33,
   "metadata": {},
   "outputs": [],
   "source": [
    "rs.__init__(rs, game_dir = r'C:\\Riot Games\\League of Legends\\Game',\n",
    "            replay_dir = r'C:\\Users\\user\\Documents\\League of Legends\\Replays',\n",
    "            dataset_dir = r'C:\\Users\\user\\Documents\\League of Legends\\Dataset',\n",
    "            scraper_dir = r'C:\\Users\\user\\Desktop\\pyLoL\\pyLoL\\autoLeague\\replays',\n",
    "            replay_speed=8,\n",
    "            region=\"KR\")"
   ]
  },
  {
   "cell_type": "code",
   "execution_count": 34,
   "metadata": {},
   "outputs": [
    {
     "name": "stdout",
     "output_type": "stream",
     "text": [
      "run lol client: ['C:\\\\Riot Games\\\\League of Legends\\\\Game\\\\League of Legends.exe', 'C:\\\\Users\\\\user\\\\Documents\\\\League of Legends\\\\Replays\\\\KR-6387058061.rofl', '-SkipRads', '-SkipBuild', '-EnableLNP', '-UseNewX3D=1', '-UseNewX3DFramebuffers=1']\n"
     ]
    }
   ],
   "source": [
    "rs.run_client(rs,replay_path = r'C:\\Users\\user\\Documents\\League of Legends\\Replays\\KR-6387058061.rofl')"
   ]
  },
  {
   "cell_type": "code",
   "execution_count": 53,
   "metadata": {},
   "outputs": [
    {
     "name": "stdout",
     "output_type": "stream",
     "text": [
      "{'length': 1818.3580322265625, 'paused': False, 'seeking': False, 'speed': 16.0, 'time': 100.2928237915039}\n",
      "<Response [200]>\n"
     ]
    }
   ],
   "source": [
    "import requests\n",
    "from urllib3.exceptions import InsecureRequestWarning\n",
    "import warnings\n",
    "import json()\n",
    "\n",
    "warnings.filterwarnings(action='ignore')\n",
    "requests.packages.urllib3.disable_warnings(requests.packages.urllib3.exceptions.InsecureRequestWarning)\n",
    "requests.packages.urllib3.disable_warnings(category=InsecureRequestWarning)\n",
    "gameId = 'KR-6387058061'\n",
    "\n",
    "req = requests.get('https://127.0.0.1:2999/replay/playback' , verify = False)\n",
    "print(req.json())\n",
    "\n",
    "req = requests.post(\n",
    "        'https://127.0.0.1:2999/replay/playback',\n",
    "        headers={\n",
    "            'Accept': 'application/json',\n",
    "            'Content-Type': 'application/json'\n",
    "        },\n",
    "        data = json.dumps({\n",
    "            \"time\": 2,\n",
    "            \"speed\": 16\n",
    "        }),\n",
    "        verify=False\n",
    "    )\n",
    "\n",
    "print(req)\n"
   ]
  },
  {
   "cell_type": "code",
   "execution_count": 29,
   "metadata": {},
   "outputs": [
    {
     "name": "stdout",
     "output_type": "stream",
     "text": [
      "59765\n",
      "-Ujw9GPXMb_xONqjMk_9UA\n"
     ]
    },
    {
     "ename": "JSONDecodeError",
     "evalue": "Expecting value: line 1 column 1 (char 0)",
     "output_type": "error",
     "traceback": [
      "\u001b[1;31m---------------------------------------------------------------------------\u001b[0m",
      "\u001b[1;31mJSONDecodeError\u001b[0m                           Traceback (most recent call last)",
      "\u001b[1;32mc:\\Users\\user\\pyLoL\\autoLeague\\bin\\replay_scraper.ipynb Cell 6\u001b[0m in \u001b[0;36m<cell line: 34>\u001b[1;34m()\u001b[0m\n\u001b[0;32m     <a href='vscode-notebook-cell:/c%3A/Users/user/pyLoL/autoLeague/bin/replay_scraper.ipynb#W4sZmlsZQ%3D%3D?line=29'>30</a>\u001b[0m gameId \u001b[39m=\u001b[39m \u001b[39m'\u001b[39m\u001b[39m6387058061\u001b[39m\u001b[39m'\u001b[39m\n\u001b[0;32m     <a href='vscode-notebook-cell:/c%3A/Users/user/pyLoL/autoLeague/bin/replay_scraper.ipynb#W4sZmlsZQ%3D%3D?line=30'>31</a>\u001b[0m r \u001b[39m=\u001b[39m requests\u001b[39m.\u001b[39mpost(url\u001b[39m=\u001b[39m\u001b[39m'\u001b[39m\u001b[39mhttps://127.0.0.1:\u001b[39m\u001b[39m'\u001b[39m \u001b[39m+\u001b[39m port \u001b[39m+\u001b[39m \u001b[39mf\u001b[39m\u001b[39m'\u001b[39m\u001b[39m/lol-replays/v1/rofls/scan\u001b[39m\u001b[39m'\u001b[39m,\n\u001b[0;32m     <a href='vscode-notebook-cell:/c%3A/Users/user/pyLoL/autoLeague/bin/replay_scraper.ipynb#W4sZmlsZQ%3D%3D?line=31'>32</a>\u001b[0m headers\u001b[39m=\u001b[39m{ \u001b[39m'\u001b[39m\u001b[39maccept\u001b[39m\u001b[39m'\u001b[39m: \u001b[39m'\u001b[39m\u001b[39mapplication/json\u001b[39m\u001b[39m'\u001b[39m, \u001b[39m'\u001b[39m\u001b[39mAuthorization\u001b[39m\u001b[39m'\u001b[39m: \u001b[39m'\u001b[39m\u001b[39mBasic \u001b[39m\u001b[39m'\u001b[39m \u001b[39m+\u001b[39m base64\u001b[39m.\u001b[39mb64encode(\u001b[39mstr\u001b[39m(\u001b[39m'\u001b[39m\u001b[39mriot:\u001b[39m\u001b[39m'\u001b[39m\u001b[39m+\u001b[39mtoken)\u001b[39m.\u001b[39mencode(\u001b[39m'\u001b[39m\u001b[39mascii\u001b[39m\u001b[39m'\u001b[39m))\u001b[39m.\u001b[39mdecode(\u001b[39m'\u001b[39m\u001b[39mascii\u001b[39m\u001b[39m'\u001b[39m) }, verify \u001b[39m=\u001b[39m \u001b[39mFalse\u001b[39;00m)\n\u001b[1;32m---> <a href='vscode-notebook-cell:/c%3A/Users/user/pyLoL/autoLeague/bin/replay_scraper.ipynb#W4sZmlsZQ%3D%3D?line=33'>34</a>\u001b[0m \u001b[39mprint\u001b[39m(r\u001b[39m.\u001b[39;49mjson())\n",
      "File \u001b[1;32mc:\\Users\\user\\AppData\\Local\\Programs\\Python\\Python39\\lib\\site-packages\\requests\\models.py:910\u001b[0m, in \u001b[0;36mResponse.json\u001b[1;34m(self, **kwargs)\u001b[0m\n\u001b[0;32m    904\u001b[0m         \u001b[39mexcept\u001b[39;00m \u001b[39mUnicodeDecodeError\u001b[39;00m:\n\u001b[0;32m    905\u001b[0m             \u001b[39m# Wrong UTF codec detected; usually because it's not UTF-8\u001b[39;00m\n\u001b[0;32m    906\u001b[0m             \u001b[39m# but some other 8-bit codec.  This is an RFC violation,\u001b[39;00m\n\u001b[0;32m    907\u001b[0m             \u001b[39m# and the server didn't bother to tell us what codec *was*\u001b[39;00m\n\u001b[0;32m    908\u001b[0m             \u001b[39m# used.\u001b[39;00m\n\u001b[0;32m    909\u001b[0m             \u001b[39mpass\u001b[39;00m\n\u001b[1;32m--> 910\u001b[0m \u001b[39mreturn\u001b[39;00m complexjson\u001b[39m.\u001b[39mloads(\u001b[39mself\u001b[39m\u001b[39m.\u001b[39mtext, \u001b[39m*\u001b[39m\u001b[39m*\u001b[39mkwargs)\n",
      "File \u001b[1;32mc:\\Users\\user\\AppData\\Local\\Programs\\Python\\Python39\\lib\\json\\__init__.py:346\u001b[0m, in \u001b[0;36mloads\u001b[1;34m(s, cls, object_hook, parse_float, parse_int, parse_constant, object_pairs_hook, **kw)\u001b[0m\n\u001b[0;32m    341\u001b[0m     s \u001b[39m=\u001b[39m s\u001b[39m.\u001b[39mdecode(detect_encoding(s), \u001b[39m'\u001b[39m\u001b[39msurrogatepass\u001b[39m\u001b[39m'\u001b[39m)\n\u001b[0;32m    343\u001b[0m \u001b[39mif\u001b[39;00m (\u001b[39mcls\u001b[39m \u001b[39mis\u001b[39;00m \u001b[39mNone\u001b[39;00m \u001b[39mand\u001b[39;00m object_hook \u001b[39mis\u001b[39;00m \u001b[39mNone\u001b[39;00m \u001b[39mand\u001b[39;00m\n\u001b[0;32m    344\u001b[0m         parse_int \u001b[39mis\u001b[39;00m \u001b[39mNone\u001b[39;00m \u001b[39mand\u001b[39;00m parse_float \u001b[39mis\u001b[39;00m \u001b[39mNone\u001b[39;00m \u001b[39mand\u001b[39;00m\n\u001b[0;32m    345\u001b[0m         parse_constant \u001b[39mis\u001b[39;00m \u001b[39mNone\u001b[39;00m \u001b[39mand\u001b[39;00m object_pairs_hook \u001b[39mis\u001b[39;00m \u001b[39mNone\u001b[39;00m \u001b[39mand\u001b[39;00m \u001b[39mnot\u001b[39;00m kw):\n\u001b[1;32m--> 346\u001b[0m     \u001b[39mreturn\u001b[39;00m _default_decoder\u001b[39m.\u001b[39;49mdecode(s)\n\u001b[0;32m    347\u001b[0m \u001b[39mif\u001b[39;00m \u001b[39mcls\u001b[39m \u001b[39mis\u001b[39;00m \u001b[39mNone\u001b[39;00m:\n\u001b[0;32m    348\u001b[0m     \u001b[39mcls\u001b[39m \u001b[39m=\u001b[39m JSONDecoder\n",
      "File \u001b[1;32mc:\\Users\\user\\AppData\\Local\\Programs\\Python\\Python39\\lib\\json\\decoder.py:337\u001b[0m, in \u001b[0;36mJSONDecoder.decode\u001b[1;34m(self, s, _w)\u001b[0m\n\u001b[0;32m    332\u001b[0m \u001b[39mdef\u001b[39;00m \u001b[39mdecode\u001b[39m(\u001b[39mself\u001b[39m, s, _w\u001b[39m=\u001b[39mWHITESPACE\u001b[39m.\u001b[39mmatch):\n\u001b[0;32m    333\u001b[0m     \u001b[39m\"\"\"Return the Python representation of ``s`` (a ``str`` instance\u001b[39;00m\n\u001b[0;32m    334\u001b[0m \u001b[39m    containing a JSON document).\u001b[39;00m\n\u001b[0;32m    335\u001b[0m \n\u001b[0;32m    336\u001b[0m \u001b[39m    \"\"\"\u001b[39;00m\n\u001b[1;32m--> 337\u001b[0m     obj, end \u001b[39m=\u001b[39m \u001b[39mself\u001b[39;49m\u001b[39m.\u001b[39;49mraw_decode(s, idx\u001b[39m=\u001b[39;49m_w(s, \u001b[39m0\u001b[39;49m)\u001b[39m.\u001b[39;49mend())\n\u001b[0;32m    338\u001b[0m     end \u001b[39m=\u001b[39m _w(s, end)\u001b[39m.\u001b[39mend()\n\u001b[0;32m    339\u001b[0m     \u001b[39mif\u001b[39;00m end \u001b[39m!=\u001b[39m \u001b[39mlen\u001b[39m(s):\n",
      "File \u001b[1;32mc:\\Users\\user\\AppData\\Local\\Programs\\Python\\Python39\\lib\\json\\decoder.py:355\u001b[0m, in \u001b[0;36mJSONDecoder.raw_decode\u001b[1;34m(self, s, idx)\u001b[0m\n\u001b[0;32m    353\u001b[0m     obj, end \u001b[39m=\u001b[39m \u001b[39mself\u001b[39m\u001b[39m.\u001b[39mscan_once(s, idx)\n\u001b[0;32m    354\u001b[0m \u001b[39mexcept\u001b[39;00m \u001b[39mStopIteration\u001b[39;00m \u001b[39mas\u001b[39;00m err:\n\u001b[1;32m--> 355\u001b[0m     \u001b[39mraise\u001b[39;00m JSONDecodeError(\u001b[39m\"\u001b[39m\u001b[39mExpecting value\u001b[39m\u001b[39m\"\u001b[39m, s, err\u001b[39m.\u001b[39mvalue) \u001b[39mfrom\u001b[39;00m \u001b[39mNone\u001b[39m\n\u001b[0;32m    356\u001b[0m \u001b[39mreturn\u001b[39;00m obj, end\n",
      "\u001b[1;31mJSONDecodeError\u001b[0m: Expecting value: line 1 column 1 (char 0)"
     ]
    }
   ],
   "source": [
    "import base64\n",
    "import subprocess\n",
    "import requests\n",
    "import json\n",
    "\n",
    "# 아직 Windows만 됨\n",
    "process =  subprocess.Popen(\"wmic PROCESS WHERE name='LeagueClientUx.exe' GET commandline\", shell=True, stdout=subprocess.PIPE, stderr=subprocess.PIPE, universal_newlines=True)\n",
    "token = None\n",
    "port = None\n",
    "\n",
    "output, error = process.communicate()\n",
    "\n",
    "if error:\n",
    "    raise ProcessLookupError(\"롤 클라이언트 안켜짐\")\n",
    "else:\n",
    "    cmd = output.strip().split('\"')\n",
    "    for i in cmd:\n",
    "        if i.find(\"remoting-auth-token\") != -1:\n",
    "            token = i.split(\"=\")[1]\n",
    "        elif i.find(\"app-port\") != -1:\n",
    "            port = i.split(\"=\")[1]\n",
    "\n",
    "\n",
    "print(port)\n",
    "print(token)\n",
    "\n",
    "# riot api 웹사이트에서 파일 받아서 와서 하면 될 듯\n",
    "requests.packages.urllib3.disable_warnings(requests.packages.urllib3.exceptions.InsecureRequestWarning)\n",
    "\n",
    "gameId = '6387058061'\n",
    "r = requests.post(url='https://127.0.0.1:' + port + f'/lol-replays/v1/rofls/scan',\n",
    "headers={ 'accept': 'application/json', 'Authorization': 'Basic ' + base64.b64encode(str('riot:'+token).encode('ascii')).decode('ascii') }, verify = False)\n",
    "\n",
    "print(r.json())\n"
   ]
  },
  {
   "cell_type": "code",
   "execution_count": null,
   "metadata": {},
   "outputs": [],
   "source": [
    "'''rv = requests.get(url='https://127.0.0.1:' + port + '/lol-chat/v1/conversations',\n",
    "headers={ 'accept': 'application/json', 'Authorization': 'Basic ' + base64.b64encode(str('riot:'+token).encode('ascii')).decode('ascii') }, verify = False)\n",
    "\n",
    "print(rv.text)'''\n",
    "'''f = None\n",
    "for a in json.loads(rv.text):\n",
    "    if str(a['id']).split('@')[0] == str(json.loads(r.text)['chatDetails']['chatRoomName']).split('@')[0]:\n",
    "        f = a['id']\n",
    "\n",
    "if f == None:\n",
    "    raise ValueError('픽창 채팅방이 없습니다.')\n",
    "\n",
    "ra = requests.get(url='https://127.0.0.1:' + port +'/lol-chat/v1/conversations/'+ f + '/participants',\n",
    "headers={ 'accept': 'application/json', 'Authorization': 'Basic ' + base64.b64encode(str('riot:'+token).encode('ascii')).decode('ascii') }, verify = False)\n",
    "\n",
    "for i in json.loads(ra.text):\n",
    "    print(i['name'])\n",
    "'''"
   ]
  }
 ],
 "metadata": {
  "kernelspec": {
   "display_name": "Python 3",
   "language": "python",
   "name": "python3"
  },
  "language_info": {
   "codemirror_mode": {
    "name": "ipython",
    "version": 3
   },
   "file_extension": ".py",
   "mimetype": "text/x-python",
   "name": "python",
   "nbconvert_exporter": "python",
   "pygments_lexer": "ipython3",
   "version": "3.9.11"
  },
  "orig_nbformat": 4,
  "vscode": {
   "interpreter": {
    "hash": "82ed002fa2d4956f5c6aec99bcefe0f73a9f79882f3c9e2319b14958a5896ac5"
   }
  }
 },
 "nbformat": 4,
 "nbformat_minor": 2
}
