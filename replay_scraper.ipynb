{
 "cells": [
  {
   "cell_type": "code",
   "execution_count": 1,
   "metadata": {},
   "outputs": [],
   "source": [
    "# MIT License\n",
    "# \n",
    "# Copyright (c) 2021 MiscellaneousStuff\n",
    "# \n",
    "# Permission is hereby granted, free of charge, to any person obtaining a copy\n",
    "# of this software and associated documentation files (the \"Software\"), to deal\n",
    "# in the Software without restriction, including without limitation the rights\n",
    "# to use, copy, modify, merge, publish, distribute, sublicense, and/or sell\n",
    "# copies of the Software, and to permit persons to whom the Software is\n",
    "# furnished to do so, subject to the following conditions:\n",
    "# \n",
    "# The above copyright notice and this permission notice shall be included in all\n",
    "# copies or substantial portions of the Software.\n",
    "# \n",
    "# THE SOFTWARE IS PROVIDED \"AS IS\", WITHOUT WARRANTY OF ANY KIND, EXPRESS OR\n",
    "# IMPLIED, INCLUDING BUT NOT LIMITED TO THE WARRANTIES OF MERCHANTABILITY,\n",
    "# FITNESS FOR A PARTICULAR PURPOSE AND NONINFRINGEMENT. IN NO EVENT SHALL THE\n",
    "# AUTHORS OR COPYRIGHT HOLDERS BE LIABLE FOR ANY CLAIM, DAMAGES OR OTHER\n",
    "# LIABILITY, WHETHER IN AN ACTION OF CONTRACT, TORT OR OTHERWISE, ARISING FROM,\n",
    "# OUT OF OR IN CONNECTION WITH THE SOFTWARE OR THE USE OR OTHER DEALINGS IN THE\n",
    "# SOFTWARE."
   ]
  },
  {
   "cell_type": "code",
   "execution_count": 35,
   "metadata": {},
   "outputs": [],
   "source": [
    "from autoLeague.bin.utils import Utils as ut\n",
    "from autoLeague.replays.scraper import ReplayScraper as rs\n",
    "\n",
    "import os\n",
    "import json\n",
    "import requests\n",
    "import time"
   ]
  },
  {
   "cell_type": "code",
   "execution_count": 41,
   "metadata": {},
   "outputs": [],
   "source": [
    "rs.__init__(rs, game_dir = r'C:\\Riot Games\\League of Legends\\Game',\n",
    "            replay_dir = r'C:\\Users\\user\\Documents\\League of Legends\\Replays',\n",
    "            dataset_dir = r'C:\\Users\\user\\Documents\\League of Legends\\Dataset',\n",
    "            scraper_dir = r'C:\\Users\\user\\Desktop\\pyLoL\\pyLoL\\autoLeague\\replays',\n",
    "            replay_speed=8,\n",
    "            region=\"KR\")"
   ]
  },
  {
   "cell_type": "code",
   "execution_count": 37,
   "metadata": {},
   "outputs": [
    {
     "data": {
      "text/plain": [
       "'C:\\\\Users\\\\user\\\\Documents\\\\League of Legends\\\\Replays'"
      ]
     },
     "execution_count": 37,
     "metadata": {},
     "output_type": "execute_result"
    }
   ],
   "source": [
    "rs.get_replay_dir(rs)"
   ]
  },
  {
   "cell_type": "code",
   "execution_count": 38,
   "metadata": {},
   "outputs": [
    {
     "data": {
      "text/plain": [
       "['KR-6396428385.rofl', 'KR-6396464605.rofl']"
      ]
     },
     "execution_count": 38,
     "metadata": {},
     "output_type": "execute_result"
    }
   ],
   "source": [
    "files = os.listdir(rs.get_replay_dir(rs))\n",
    "replay_files = [file for file in files if file.endswith(\".rofl\")]\n",
    "replay_files"
   ]
  },
  {
   "cell_type": "code",
   "execution_count": 49,
   "metadata": {},
   "outputs": [
    {
     "ename": "TypeError",
     "evalue": "run_client() got an unexpected keyword argument 'start'",
     "output_type": "error",
     "traceback": [
      "\u001b[1;31m---------------------------------------------------------------------------\u001b[0m",
      "\u001b[1;31mTypeError\u001b[0m                                 Traceback (most recent call last)",
      "\u001b[1;32mc:\\Users\\user\\Desktop\\pyLoL-1\\replay_scraper.ipynb Cell 6\u001b[0m in \u001b[0;36m<cell line: 2>\u001b[1;34m()\u001b[0m\n\u001b[0;32m      <a href='vscode-notebook-cell:/c%3A/Users/user/Desktop/pyLoL-1/replay_scraper.ipynb#W6sZmlsZQ%3D%3D?line=0'>1</a>\u001b[0m \u001b[39m# run_client(self, replay_path, start, end, speed, paused)\u001b[39;00m\n\u001b[1;32m----> <a href='vscode-notebook-cell:/c%3A/Users/user/Desktop/pyLoL-1/replay_scraper.ipynb#W6sZmlsZQ%3D%3D?line=1'>2</a>\u001b[0m rs\u001b[39m.\u001b[39;49mrun_client(rs,replay_path \u001b[39m=\u001b[39;49m \u001b[39mrf\u001b[39;49m\u001b[39m'\u001b[39;49m\u001b[39m{\u001b[39;49;00mrs\u001b[39m.\u001b[39;49mget_replay_dir(rs)\u001b[39m}\u001b[39;49;00m\u001b[39m\\\u001b[39;49m\u001b[39m{\u001b[39;49;00mreplay_files[\u001b[39m1\u001b[39;49m]\u001b[39m}\u001b[39;49;00m\u001b[39m'\u001b[39;49m, start\u001b[39m=\u001b[39;49m\u001b[39m900\u001b[39;49m, end\u001b[39m=\u001b[39;49m\u001b[39m910\u001b[39;49m, speed\u001b[39m=\u001b[39;49m\u001b[39m2\u001b[39;49m, paused\u001b[39m=\u001b[39;49m\u001b[39mFalse\u001b[39;49;00m)\n",
      "\u001b[1;31mTypeError\u001b[0m: run_client() got an unexpected keyword argument 'start'"
     ]
    }
   ],
   "source": [
    "# run_client(self, replay_path, start, end, speed, paused)\n",
    "rs.run_client(rs,replay_path = rf'{rs.get_replay_dir(rs)}\\{replay_files[1]}', start=900, end=910, speed=2, paused=False)"
   ]
  },
  {
   "cell_type": "code",
   "execution_count": 6,
   "metadata": {},
   "outputs": [
    {
     "name": "stdout",
     "output_type": "stream",
     "text": [
      "<Response [200]>\n",
      "{'length': 1804.2081298828125, 'paused': True, 'seeking': True, 'speed': 1.0, 'time': 900.0}\n"
     ]
    }
   ],
   "source": [
    "'''\n",
    "length: 게임 전체 길이(초)\n",
    "paused: 일시중지 여부 설정\n",
    "seeking: 나도 몰루\n",
    "time: 리플레이 시작 시각(초)\n",
    "speed: 배속 값\n",
    "'''\n",
    "req = requests.post(\n",
    "        'https://127.0.0.1:2999/replay/playback',\n",
    "        headers={\n",
    "            'Accept': 'application/json',\n",
    "            'Content-Type': 'application/json'\n",
    "        },\n",
    "        data = json.dumps({\n",
    "            \"paused\": False,\n",
    "            \"seeking\" : False,   \n",
    "            \"time\": 900,\n",
    "            \"speed\": 1\n",
    "        }),\n",
    "        verify=False\n",
    "    )\n",
    "\n",
    "print(req)\n",
    "\n",
    "req = requests.get('https://127.0.0.1:2999/replay/playback' , verify = False)\n",
    "print(req.json())\n"
   ]
  },
  {
   "cell_type": "code",
   "execution_count": 27,
   "metadata": {},
   "outputs": [
    {
     "name": "stdout",
     "output_type": "stream",
     "text": [
      "<Response [200]>\n"
     ]
    }
   ],
   "source": [
    "running = True\n",
    "\n",
    "while running:\n",
    "    try:\n",
    "        req = requests.post(\n",
    "                'https://127.0.0.1:2999/replay/playback',\n",
    "                headers={\n",
    "                    'Accept': 'application/json',\n",
    "                    'Content-Type': 'application/json'\n",
    "                },\n",
    "                data = json.dumps({\n",
    "                    \"paused\": True,\n",
    "                    \"seeking\" : False,   \n",
    "                    \"time\": 60,\n",
    "                    \"speed\": 8\n",
    "                }),\n",
    "                verify=False\n",
    "            )\n",
    "        #req = requests.get('https://127.0.0.1:2999/replay/playback' , verify = False)\n",
    "        if req.status_code == 200:\n",
    "            print(req)\n",
    "            running = False\n",
    "    except:\n",
    "        time.sleep(4)\n",
    "        pass\n",
    "\n"
   ]
  },
  {
   "cell_type": "code",
   "execution_count": 48,
   "metadata": {},
   "outputs": [
    {
     "data": {
      "text/plain": [
       "0"
      ]
     },
     "execution_count": 48,
     "metadata": {},
     "output_type": "execute_result"
    }
   ],
   "source": [
    "os.system(\"taskkill /f /im \\\"League of Legends.exe\\\"\")"
   ]
  },
  {
   "cell_type": "code",
   "execution_count": 47,
   "metadata": {},
   "outputs": [
    {
     "data": {
      "text/plain": [
       "{'length': 1747.902099609375,\n",
       " 'paused': False,\n",
       " 'seeking': False,\n",
       " 'speed': 1.0,\n",
       " 'time': 142.33450317382812}"
      ]
     },
     "execution_count": 47,
     "metadata": {},
     "output_type": "execute_result"
    }
   ],
   "source": [
    "requests.get('https://127.0.0.1:2999/replay/playback',verify=False).json()"
   ]
  }
 ],
 "metadata": {
  "kernelspec": {
   "display_name": "Python 3",
   "language": "python",
   "name": "python3"
  },
  "language_info": {
   "codemirror_mode": {
    "name": "ipython",
    "version": 3
   },
   "file_extension": ".py",
   "mimetype": "text/x-python",
   "name": "python",
   "nbconvert_exporter": "python",
   "pygments_lexer": "ipython3",
   "version": "3.9.11"
  },
  "orig_nbformat": 4,
  "vscode": {
   "interpreter": {
    "hash": "82ed002fa2d4956f5c6aec99bcefe0f73a9f79882f3c9e2319b14958a5896ac5"
   }
  }
 },
 "nbformat": 4,
 "nbformat_minor": 2
}
