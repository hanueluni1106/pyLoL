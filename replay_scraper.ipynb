{
 "cells": [
  {
   "cell_type": "code",
   "execution_count": 1,
   "metadata": {},
   "outputs": [],
   "source": [
    "# MIT License\n",
    "# \n",
    "# Copyright (c) 2021 MiscellaneousStuff\n",
    "# \n",
    "# Permission is hereby granted, free of charge, to any person obtaining a copy\n",
    "# of this software and associated documentation files (the \"Software\"), to deal\n",
    "# in the Software without restriction, including without limitation the rights\n",
    "# to use, copy, modify, merge, publish, distribute, sublicense, and/or sell\n",
    "# copies of the Software, and to permit persons to whom the Software is\n",
    "# furnished to do so, subject to the following conditions:\n",
    "# \n",
    "# The above copyright notice and this permission notice shall be included in all\n",
    "# copies or substantial portions of the Software.\n",
    "# \n",
    "# THE SOFTWARE IS PROVIDED \"AS IS\", WITHOUT WARRANTY OF ANY KIND, EXPRESS OR\n",
    "# IMPLIED, INCLUDING BUT NOT LIMITED TO THE WARRANTIES OF MERCHANTABILITY,\n",
    "# FITNESS FOR A PARTICULAR PURPOSE AND NONINFRINGEMENT. IN NO EVENT SHALL THE\n",
    "# AUTHORS OR COPYRIGHT HOLDERS BE LIABLE FOR ANY CLAIM, DAMAGES OR OTHER\n",
    "# LIABILITY, WHETHER IN AN ACTION OF CONTRACT, TORT OR OTHERWISE, ARISING FROM,\n",
    "# OUT OF OR IN CONNECTION WITH THE SOFTWARE OR THE USE OR OTHER DEALINGS IN THE\n",
    "# SOFTWARE."
   ]
  },
  {
   "cell_type": "code",
   "execution_count": 11,
   "metadata": {},
   "outputs": [],
   "source": [
    "from autoLeague.bin.utils import Utils as ut\n",
    "from autoLeague.replays.scraper import ReplayScraper as rs\n",
    "\n",
    "import os\n",
    "import json\n",
    "import requests\n",
    "import time"
   ]
  },
  {
   "cell_type": "code",
   "execution_count": 12,
   "metadata": {},
   "outputs": [],
   "source": [
    "rs.__init__(rs, game_dir = r'C:\\Riot Games\\League of Legends\\Game',\n",
    "            replay_dir = r'C:\\Users\\user\\Documents\\League of Legends\\Replays',\n",
    "            dataset_dir = r'C:\\Users\\user\\Documents\\League of Legends\\Dataset',\n",
    "            scraper_dir = r'C:\\Users\\user\\Desktop\\pyLoL\\pyLoL\\autoLeague\\replays',\n",
    "            replay_speed=8,\n",
    "            region=\"KR\")"
   ]
  },
  {
   "cell_type": "code",
   "execution_count": 3,
   "metadata": {},
   "outputs": [
    {
     "data": {
      "text/plain": [
       "'C:\\\\Users\\\\user\\\\Documents\\\\League of Legends\\\\Replays'"
      ]
     },
     "execution_count": 3,
     "metadata": {},
     "output_type": "execute_result"
    }
   ],
   "source": [
    "rs.get_replay_dir(rs)"
   ]
  },
  {
   "cell_type": "code",
   "execution_count": 4,
   "metadata": {},
   "outputs": [
    {
     "data": {
      "text/plain": [
       "['KR-6396428385.rofl', 'KR-6396464605.rofl']"
      ]
     },
     "execution_count": 4,
     "metadata": {},
     "output_type": "execute_result"
    }
   ],
   "source": [
    "files = os.listdir(rs.get_replay_dir(rs))\n",
    "replay_files = [file for file in files if file.endswith(\".rofl\")]\n",
    "replay_files"
   ]
  },
  {
   "cell_type": "code",
   "execution_count": 33,
   "metadata": {},
   "outputs": [
    {
     "name": "stdout",
     "output_type": "stream",
     "text": [
      "run lol client: ['C:\\\\Riot Games\\\\League of Legends\\\\Game\\\\League of Legends.exe', 'C:\\\\Users\\\\user\\\\Documents\\\\League of Legends\\\\Replays\\\\KR-6396464605.rofl', '-SkipRads', '-SkipBuild', '-EnableLNP', '-UseNewX3D=1', '-UseNewX3DFramebuffers=1']\n"
     ]
    }
   ],
   "source": [
    "rs.run_client(rs,replay_path = rf'{rs.get_replay_dir(rs)}\\{replay_files[1]}')"
   ]
  },
  {
   "cell_type": "code",
   "execution_count": 6,
   "metadata": {},
   "outputs": [
    {
     "name": "stdout",
     "output_type": "stream",
     "text": [
      "<Response [200]>\n",
      "{'length': 1804.2081298828125, 'paused': True, 'seeking': True, 'speed': 1.0, 'time': 900.0}\n"
     ]
    }
   ],
   "source": [
    "'''\n",
    "length: 게임 전체 길이(초)\n",
    "paused: 일시중지 여부 설정\n",
    "seeking: 나도 몰루\n",
    "time: 리플레이 시작 시각(초)\n",
    "speed: 배속 값\n",
    "'''\n",
    "req = requests.post(\n",
    "        'https://127.0.0.1:2999/replay/playback',\n",
    "        headers={\n",
    "            'Accept': 'application/json',\n",
    "            'Content-Type': 'application/json'\n",
    "        },\n",
    "        data = json.dumps({\n",
    "            \"paused\": False,\n",
    "            \"seeking\" : False,   \n",
    "            \"time\": 900,\n",
    "            \"speed\": 1\n",
    "        }),\n",
    "        verify=False\n",
    "    )\n",
    "\n",
    "print(req)\n",
    "\n",
    "req = requests.get('https://127.0.0.1:2999/replay/playback' , verify = False)\n",
    "print(req.json())\n"
   ]
  },
  {
   "cell_type": "code",
   "execution_count": 27,
   "metadata": {},
   "outputs": [
    {
     "name": "stdout",
     "output_type": "stream",
     "text": [
      "<Response [200]>\n"
     ]
    }
   ],
   "source": [
    "running = True\n",
    "\n",
    "while running:\n",
    "    try:\n",
    "        req = requests.post(\n",
    "                'https://127.0.0.1:2999/replay/playback',\n",
    "                headers={\n",
    "                    'Accept': 'application/json',\n",
    "                    'Content-Type': 'application/json'\n",
    "                },\n",
    "                data = json.dumps({\n",
    "                    \"paused\": True,\n",
    "                    \"seeking\" : False,   \n",
    "                    \"time\": 60,\n",
    "                    \"speed\": 8\n",
    "                }),\n",
    "                verify=False\n",
    "            )\n",
    "        #req = requests.get('https://127.0.0.1:2999/replay/playback' , verify = False)\n",
    "        if req.status_code == 200:\n",
    "            print(req)\n",
    "            running = False\n",
    "    except:\n",
    "        time.sleep(4)\n",
    "        pass\n",
    "\n"
   ]
  },
  {
   "cell_type": "code",
   "execution_count": 34,
   "metadata": {},
   "outputs": [
    {
     "data": {
      "text/plain": [
       "0"
      ]
     },
     "execution_count": 34,
     "metadata": {},
     "output_type": "execute_result"
    }
   ],
   "source": [
    "os.system(\"taskkill /f /im \\\"League of Legends.exe\\\"\")"
   ]
  },
  {
   "cell_type": "code",
   "execution_count": 16,
   "metadata": {},
   "outputs": [
    {
     "data": {
      "text/plain": [
       "{'banners': True,\n",
       " 'cameraAttached': False,\n",
       " 'cameraLookSpeed': 1.0,\n",
       " 'cameraMode': 'top',\n",
       " 'cameraMoveSpeed': 500.0,\n",
       " 'cameraPosition': {'x': 2900.319580078125,\n",
       "  'y': 1911.8480224609375,\n",
       "  'z': 11844.68359375},\n",
       " 'cameraRotation': {'x': 0.0, 'y': 56.0, 'z': 0.0},\n",
       " 'characters': True,\n",
       " 'depthFogColor': {'a': 1.0, 'b': 0.0, 'g': 0.0, 'r': 0.0},\n",
       " 'depthFogEnabled': False,\n",
       " 'depthFogEnd': 8000.0,\n",
       " 'depthFogIntensity': 1.0,\n",
       " 'depthFogStart': 5000.0,\n",
       " 'depthOfFieldCircle': 10.0,\n",
       " 'depthOfFieldDebug': False,\n",
       " 'depthOfFieldEnabled': False,\n",
       " 'depthOfFieldFar': 5000.0,\n",
       " 'depthOfFieldMid': 2000.0,\n",
       " 'depthOfFieldNear': 0.0,\n",
       " 'depthOfFieldWidth': 800.0,\n",
       " 'environment': True,\n",
       " 'farClip': 24250.0,\n",
       " 'fieldOfView': 40.0,\n",
       " 'floatingText': True,\n",
       " 'fogOfWar': True,\n",
       " 'healthBarChampions': True,\n",
       " 'healthBarMinions': True,\n",
       " 'healthBarPets': True,\n",
       " 'healthBarStructures': True,\n",
       " 'healthBarWards': True,\n",
       " 'heightFogColor': {'a': 1.0, 'b': 0.0, 'g': 0.0, 'r': 0.0},\n",
       " 'heightFogEnabled': False,\n",
       " 'heightFogEnd': -100.0,\n",
       " 'heightFogIntensity': 1.0,\n",
       " 'heightFogStart': 300.0,\n",
       " 'interfaceAll': True,\n",
       " 'interfaceAnnounce': True,\n",
       " 'interfaceChat': True,\n",
       " 'interfaceFrames': True,\n",
       " 'interfaceKillCallouts': True,\n",
       " 'interfaceMinimap': True,\n",
       " 'interfaceNeutralTimers': False,\n",
       " 'interfaceQuests': None,\n",
       " 'interfaceReplay': True,\n",
       " 'interfaceScore': True,\n",
       " 'interfaceScoreboard': False,\n",
       " 'interfaceTarget': True,\n",
       " 'interfaceTimeline': True,\n",
       " 'navGridOffset': 0.0,\n",
       " 'nearClip': 50.0,\n",
       " 'outlineHover': True,\n",
       " 'outlineSelect': True,\n",
       " 'particles': True,\n",
       " 'selectionName': '',\n",
       " 'selectionOffset': {'x': 0.0, 'y': 0.0, 'z': 0.0},\n",
       " 'skyboxOffset': 0.0,\n",
       " 'skyboxPath': 'ASSETS/Maps/Skyboxes/Riots_SRU_Skybox_CubeMap.dds',\n",
       " 'skyboxRadius': 2500.0,\n",
       " 'skyboxRotation': 0.0,\n",
       " 'sunDirection': {'x': 0.25, 'y': -0.75, 'z': 0.05000000074505806}}"
      ]
     },
     "execution_count": 16,
     "metadata": {},
     "output_type": "execute_result"
    }
   ],
   "source": [
    "requests.get('https://127.0.0.1:2999/replay/render',verify=False).json()"
   ]
  }
 ],
 "metadata": {
  "kernelspec": {
   "display_name": "Python 3",
   "language": "python",
   "name": "python3"
  },
  "language_info": {
   "codemirror_mode": {
    "name": "ipython",
    "version": 3
   },
   "file_extension": ".py",
   "mimetype": "text/x-python",
   "name": "python",
   "nbconvert_exporter": "python",
   "pygments_lexer": "ipython3",
   "version": "3.9.11"
  },
  "orig_nbformat": 4,
  "vscode": {
   "interpreter": {
    "hash": "82ed002fa2d4956f5c6aec99bcefe0f73a9f79882f3c9e2319b14958a5896ac5"
   }
  }
 },
 "nbformat": 4,
 "nbformat_minor": 2
}
